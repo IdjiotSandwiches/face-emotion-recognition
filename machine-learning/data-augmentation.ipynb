{
  "cells": [
    {
      "cell_type": "markdown",
      "metadata": {
        "colab_type": "text",
        "id": "view-in-github"
      },
      "source": [
        "<a href=\"https://colab.research.google.com/github/IdjiotSandwiches/face-emotion-recognition/blob/data-augmentation/data_augmentation.ipynb\" target=\"_parent\"><img src=\"https://colab.research.google.com/assets/colab-badge.svg\" alt=\"Open In Colab\"/></a>"
      ]
    },
    {
      "cell_type": "code",
      "execution_count": 1,
      "metadata": {},
      "outputs": [
        {
          "name": "stderr",
          "output_type": "stream",
          "text": [
            "d:\\PythonProject\\env\\Lib\\site-packages\\albumentations\\__init__.py:24: UserWarning: A new version of Albumentations is available: 1.4.24 (you have 1.4.22). Upgrade using: pip install -U albumentations. To disable automatic update checks, set the environment variable NO_ALBUMENTATIONS_UPDATE to 1.\n",
            "  check_for_updates()\n"
          ]
        }
      ],
      "source": [
        "import os\n",
        "import cv2 as cv\n",
        "import albumentations as A\n",
        "from albumentations.core.composition import OneOf\n",
        "from albumentations import HorizontalFlip, RandomBrightnessContrast, ShiftScaleRotate\n",
        "from albumentations import Normalize\n",
        "from tqdm import tqdm\n",
        "import numpy as np"
      ]
    },
    {
      "cell_type": "code",
      "execution_count": 2,
      "metadata": {},
      "outputs": [],
      "source": [
        "transform = A.Compose([\n",
        "    A.Resize(48, 48),\n",
        "    A.RandomBrightnessContrast(p=0.7),\n",
        "    A.HorizontalFlip(p=0.7),\n",
        "    A.RandomScale(scale_limit=0.2, p=0.7),\n",
        "    A.Rotate(limit=15, p=0.7),\n",
        "])"
      ]
    },
    {
      "cell_type": "code",
      "execution_count": 4,
      "metadata": {},
      "outputs": [],
      "source": [
        "def augment_and_save(input_dir, output_dir, num_augments=1):\n",
        "    if not os.path.exists(output_dir):\n",
        "        os.makedirs(output_dir)\n",
        "\n",
        "    for class_name in os.listdir(input_dir):\n",
        "        if(class_name == 'disgust'):\n",
        "            continue\n",
        "        class_path = os.path.join(input_dir, class_name)\n",
        "        if not os.path.isdir(class_path):\n",
        "            continue \n",
        "\n",
        "        output_class_path = os.path.join(output_dir, class_name)\n",
        "        os.makedirs(output_class_path, exist_ok=True)\n",
        "\n",
        "        for img_name in tqdm(os.listdir(class_path), desc=f\"Processing {class_name}\"):\n",
        "            img_path = os.path.join(class_path, img_name)\n",
        "            image = cv.imread(img_path)\n",
        "            if image is None:\n",
        "                continue\n",
        "            image = cv.cvtColor(image, cv.COLOR_BGR2RGB)\n",
        "\n",
        "            original_output_path = os.path.join(output_class_path, img_name)\n",
        "            cv.imwrite(original_output_path, cv.cvtColor(image, cv.COLOR_RGB2BGR))\n",
        "\n",
        "            for i in range(num_augments):\n",
        "                augmented = transform(image=image)['image']\n",
        "                aug_img_name = f\"{os.path.splitext(img_name)[0]}_aug_{i}.jpg\"\n",
        "                aug_img_path = os.path.join(output_class_path, aug_img_name)\n",
        "                cv.imwrite(aug_img_path, cv.cvtColor(augmented, cv.COLOR_RGB2BGR))"
      ]
    },
    {
      "cell_type": "code",
      "execution_count": 2,
      "metadata": {},
      "outputs": [],
      "source": [
        "def down_sampling(input_dir, output_dir):\n",
        "    if not os.path.exists(output_dir):\n",
        "        os.makedirs(output_dir)\n",
        "\n",
        "    for class_name in os.listdir(input_dir):\n",
        "        if(class_name == 'disgust'):\n",
        "            continue\n",
        "\n",
        "        class_path = f'{input_dir}/{class_name}'\n",
        "        output_class_path = f'{output_dir}/{class_name}'\n",
        "        os.makedirs(output_class_path, exist_ok=True)\n",
        "\n",
        "        for i, img_path in enumerate(tqdm(os.listdir(class_path), desc=f'Processing {class_name}')):\n",
        "            if(i == 3000):\n",
        "                break\n",
        "            img = cv.imread(f'{class_path}/{img_path}')\n",
        "            \n",
        "            cv.imwrite(f'{output_class_path}/{img_path}', img)"
      ]
    },
    {
      "cell_type": "code",
      "execution_count": 4,
      "metadata": {},
      "outputs": [
        {
          "name": "stderr",
          "output_type": "stream",
          "text": [
            "Processing angry:  75%|███████▌  | 3000/3995 [00:01<00:00, 1593.80it/s]\n",
            "Processing fear:  73%|███████▎  | 3000/4097 [00:24<00:08, 123.49it/s]\n",
            "Processing happy:  42%|████▏     | 3000/7215 [00:25<00:36, 117.00it/s]\n",
            "Processing neutral:  60%|██████    | 3000/4965 [00:29<00:19, 101.93it/s]\n",
            "Processing sad:  62%|██████▏   | 3000/4830 [00:27<00:16, 110.78it/s]\n",
            "Processing surprise:  95%|█████████▍| 3000/3171 [00:24<00:01, 123.97it/s]\n"
          ]
        }
      ],
      "source": [
        "input_dir = \"C:\\\\Users\\\\vinar\\\\Downloads\\\\FER2013\\\\train\"\n",
        "output_dir = \"C:\\\\Users\\\\vinar\\\\Downloads\\\\dataset\\\\FER2013\\\\train\"\n",
        "down_sampling(input_dir, output_dir)"
      ]
    },
    {
      "cell_type": "code",
      "execution_count": 5,
      "metadata": {},
      "outputs": [
        {
          "name": "stderr",
          "output_type": "stream",
          "text": [
            "Processing angry:   0%|          | 0/3000 [00:00<?, ?it/s]"
          ]
        },
        {
          "name": "stderr",
          "output_type": "stream",
          "text": [
            "Processing angry: 100%|██████████| 3000/3000 [00:03<00:00, 907.54it/s]\n",
            "Processing fear: 100%|██████████| 3000/3000 [00:03<00:00, 873.55it/s]\n",
            "Processing happy: 100%|██████████| 3000/3000 [00:03<00:00, 760.31it/s]\n",
            "Processing neutral: 100%|██████████| 3000/3000 [00:04<00:00, 747.76it/s]\n",
            "Processing sad: 100%|██████████| 3000/3000 [00:03<00:00, 758.63it/s]\n",
            "Processing surprise: 100%|██████████| 3000/3000 [00:04<00:00, 746.50it/s]\n"
          ]
        }
      ],
      "source": [
        "input_dir = \"C:\\\\Users\\\\vinar\\\\Downloads\\\\FER2013-down_sampling\"\n",
        "output_dir = \"C:\\\\Users\\\\vinar\\\\Downloads\\\\dataset\\\\FER2013\\\\train\"\n",
        "augment_and_save(input_dir, output_dir)"
      ]
    },
    {
      "cell_type": "code",
      "execution_count": null,
      "metadata": {},
      "outputs": [],
      "source": []
    }
  ],
  "metadata": {
    "colab": {
      "authorship_tag": "ABX9TyPsysFYWZhSVISQMWkRBVI1",
      "include_colab_link": true,
      "provenance": []
    },
    "kernelspec": {
      "display_name": "Python (External Venv)",
      "language": "python",
      "name": "venv"
    },
    "language_info": {
      "codemirror_mode": {
        "name": "ipython",
        "version": 3
      },
      "file_extension": ".py",
      "mimetype": "text/x-python",
      "name": "python",
      "nbconvert_exporter": "python",
      "pygments_lexer": "ipython3",
      "version": "3.12.3"
    }
  },
  "nbformat": 4,
  "nbformat_minor": 0
}
