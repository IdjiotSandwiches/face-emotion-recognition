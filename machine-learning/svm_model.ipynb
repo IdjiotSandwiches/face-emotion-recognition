{
 "cells": [
  {
   "cell_type": "code",
   "execution_count": null,
   "metadata": {},
   "outputs": [],
   "source": [
    "import cv2 as cv\n",
    "import numpy as np\n",
    "import mlflow\n",
    "import dagshub\n",
    "import os\n",
    "import pathlib\n",
    "import pandas as pd\n",
    "from sklearn.model_selection import train_test_split\n",
    "from sklearn.metrics import accuracy_score, precision_score, recall_score, f1_score, classification_report, confusion_matrix, roc_auc_score, roc_curve\n",
    "from sklearn.calibration import CalibratedClassifierCV\n",
    "from sklearn.model_selection import StratifiedKFold, cross_val_score\n",
    "from sklearn.decomposition import PCA\n",
    "import matplotlib.pyplot as plt\n",
    "from sklearn.svm import SVC"
   ]
  },
  {
   "cell_type": "code",
   "execution_count": null,
   "metadata": {},
   "outputs": [],
   "source": [
    "PATH = pathlib.Path('C:\\\\Users\\\\vinar\\\\Downloads\\\\FER2013-augmented')\n",
    "LABELS = os.listdir(PATH)"
   ]
  },
  {
   "cell_type": "code",
   "execution_count": null,
   "metadata": {},
   "outputs": [],
   "source": [
    "dagshub.init(repo_owner='IdjiotSandwiches', repo_name='face-emotion-recognition', mlflow=True)"
   ]
  },
  {
   "cell_type": "code",
   "execution_count": null,
   "metadata": {},
   "outputs": [],
   "source": [
    "K_SIZE = (31,31)\n",
    "SIGMA = 4\n",
    "THETA_RANGE = np.arange(0, np.pi, np.pi/128)\n",
    "LAMBD = 10.0\n",
    "GAMMA = 0.5\n",
    "PSI = 0\n",
    "\n",
    "gabor_params = {\n",
    "    'ksize': K_SIZE,\n",
    "    'sigma': SIGMA,\n",
    "    'lambd': LAMBD,\n",
    "    'gamma': GAMMA,\n",
    "    'psi': PSI\n",
    "}"
   ]
  },
  {
   "cell_type": "code",
   "execution_count": null,
   "metadata": {},
   "outputs": [],
   "source": [
    "images = np.load('C:\\\\Users\\\\vinar\\\\Downloads\\\\gabor-filtered-imgs\\\\FER2013\\\\images.npy')\n",
    "labels = np.load('C:\\\\Users\\\\vinar\\\\Downloads\\\\gabor-filtered-imgs\\\\FER2013\\\\labels.npy')"
   ]
  },
  {
   "cell_type": "code",
   "execution_count": null,
   "metadata": {},
   "outputs": [],
   "source": [
    "TEST_SIZE = 0.2\n",
    "RANDOM_STATE = 42\n",
    "\n",
    "split_params = {\n",
    "    'test_size': TEST_SIZE,\n",
    "    'random_state': RANDOM_STATE\n",
    "}\n",
    "\n",
    "X_train, X_test, y_train, y_test = train_test_split(images, labels, **split_params)"
   ]
  },
  {
   "cell_type": "code",
   "execution_count": null,
   "metadata": {},
   "outputs": [],
   "source": [
    "C = 1.0\n",
    "KERNEL = ['linear', 'poly', 'rbf', 'sigmoid', 'precomputed']\n",
    "DEGREE = [3,4]\n",
    "GAMMA = ['scale', 'auto']\n",
    "\n",
    "for kernel in KERNEL:\n",
    "    for degree in DEGREE:\n",
    "        for gamma in GAMMA:\n",
    "\n",
    "            model_params = {\n",
    "                'C': C,\n",
    "                'kernel': kernel,\n",
    "                'degree': degree,\n",
    "                'gamma': gamma\n",
    "            }\n",
    "\n",
    "            model = SVC(**model_params)\n",
    "\n",
    "            predict = model.predict(X_test)\n",
    "\n",
    "            metrics = {\n",
    "                'accuracy': accuracy_score(y_test, predict),\n",
    "                'precision': precision_score(y_test, predict, average='macro'),\n",
    "                'recall': recall_score(y_test, predict, average='macro'),\n",
    "                'f1': f1_score(y_test, predict, average='macro'),\n",
    "                'auc_score': roc_auc_score(y_test, predict_proba, multi_class='ovr', average='macro')\n",
    "            }\n",
    "\n",
    "            print(f\"Accuracy: {metrics['accuracy']}\\nPrecision: {metrics['precision']}\\nRecall: {metrics['recall']}\\nF1 Score: {metrics['f1']}\\nAUC Score: {metrics['auc_score']}\")\n",
    "            report = classification_report(y_test, predict)\n",
    "            print(report)\n",
    "\n",
    "            mlflow.set_experiment(\"SVM_Model FER2013 augmented\")\n",
    "            mlflow.set_tracking_uri(\"https://dagshub.com/IdjiotSandwiches/face-emotion-recognition.mlflow\")\n",
    "\n",
    "            with mlflow.start_run(run_name=f'SVM kernel={kernel} degree={degree} gamma={gamma}'):\n",
    "                mlflow.log_params(gabor_params)\n",
    "                mlflow.log_params(calib_params)\n",
    "                mlflow.log_params(model_params)\n",
    "                mlflow.log_params(kfold_params)\n",
    "                mlflow.log_param('floating_point', FLOATING_POINT)\n",
    "                mlflow.log_param('image_size', IMAGE_SIZE)\n",
    "                mlflow.log_param('PCA_n_components', N_COMPONENTS)\n",
    "                mlflow.log_param('gaussian_blur', BLUR)\n",
    "                mlflow.log_metrics(metrics)\n",
    "                mlflow.sklearn.log_model(\n",
    "                    sk_model=calib_model,\n",
    "                    artifact_path='KNN Model',\n",
    "                    input_example=X_train[:1]\n",
    "                )\n"
   ]
  }
 ],
 "metadata": {
  "kernelspec": {
   "display_name": "Python (External Venv)",
   "language": "python",
   "name": "venv"
  },
  "language_info": {
   "name": "python",
   "version": "3.12.3"
  }
 },
 "nbformat": 4,
 "nbformat_minor": 2
}
