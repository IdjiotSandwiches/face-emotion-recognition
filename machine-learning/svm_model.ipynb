{
 "cells": [
  {
   "cell_type": "code",
   "execution_count": 1,
   "metadata": {},
   "outputs": [],
   "source": [
    "import cv2 as cv\n",
    "import numpy as np\n",
    "import mlflow\n",
    "import dagshub\n",
    "import os\n",
    "import pathlib\n",
    "import pandas as pd\n",
    "from sklearn.model_selection import train_test_split\n",
    "from sklearn.metrics import accuracy_score, precision_score, recall_score, f1_score, classification_report, confusion_matrix, roc_auc_score, roc_curve\n",
    "from sklearn.calibration import CalibratedClassifierCV\n",
    "from sklearn.model_selection import StratifiedKFold, cross_val_score\n",
    "from sklearn.decomposition import PCA\n",
    "from sklearn.preprocessing import StandardScaler\n",
    "import matplotlib.pyplot as plt\n",
    "from sklearn.svm import SVC, LinearSVC\n",
    "from sklearn.model_selection import GridSearchCV\n",
    "import pickle\n",
    "from tqdm import tqdm"
   ]
  },
  {
   "cell_type": "code",
   "execution_count": 2,
   "metadata": {},
   "outputs": [],
   "source": [
    "PATH = pathlib.Path('C:\\\\Users\\\\vinar\\\\Downloads\\\\FER2013-augmented')\n",
    "LABELS = os.listdir(PATH)"
   ]
  },
  {
   "cell_type": "code",
   "execution_count": 3,
   "metadata": {},
   "outputs": [
    {
     "data": {
      "text/html": [
       "<pre style=\"white-space:pre;overflow-x:auto;line-height:normal;font-family:Menlo,'DejaVu Sans Mono',consolas,'Courier New',monospace\">Accessing as IdjiotSandwiches\n",
       "</pre>\n"
      ],
      "text/plain": [
       "Accessing as IdjiotSandwiches\n"
      ]
     },
     "metadata": {},
     "output_type": "display_data"
    },
    {
     "data": {
      "text/html": [
       "<pre style=\"white-space:pre;overflow-x:auto;line-height:normal;font-family:Menlo,'DejaVu Sans Mono',consolas,'Courier New',monospace\">Initialized MLflow to track repo <span style=\"color: #008000; text-decoration-color: #008000\">\"IdjiotSandwiches/face-emotion-recognition\"</span>\n",
       "</pre>\n"
      ],
      "text/plain": [
       "Initialized MLflow to track repo \u001b[32m\"IdjiotSandwiches/face-emotion-recognition\"\u001b[0m\n"
      ]
     },
     "metadata": {},
     "output_type": "display_data"
    },
    {
     "data": {
      "text/html": [
       "<pre style=\"white-space:pre;overflow-x:auto;line-height:normal;font-family:Menlo,'DejaVu Sans Mono',consolas,'Courier New',monospace\">Repository IdjiotSandwiches/face-emotion-recognition initialized!\n",
       "</pre>\n"
      ],
      "text/plain": [
       "Repository IdjiotSandwiches/face-emotion-recognition initialized!\n"
      ]
     },
     "metadata": {},
     "output_type": "display_data"
    }
   ],
   "source": [
    "dagshub.init(repo_owner='IdjiotSandwiches', repo_name='face-emotion-recognition', mlflow=True)"
   ]
  },
  {
   "cell_type": "code",
   "execution_count": 4,
   "metadata": {},
   "outputs": [],
   "source": [
    "K_SIZE = (21,21)\n",
    "SIGMA = 3\n",
    "THETA_RANGE = np.arange(0, np.pi, np.pi/32)\n",
    "LAMBD = 10.0\n",
    "GAMMA = 0.5\n",
    "PSI = 0\n",
    "FLOATING_POINT = cv.CV_32F\n",
    "IMAGE_SIZE = (48,48)\n",
    "N_COMPONENTS = 0.95\n",
    "N_COMPONENTS_LOCAL = 16\n",
    "BLUR = (5,5)\n",
    "\n",
    "gabor_params = {\n",
    "    'ksize': K_SIZE,\n",
    "    'sigma': SIGMA,\n",
    "    'lambd': LAMBD,\n",
    "    'gamma': GAMMA,\n",
    "    'psi': PSI\n",
    "}\n",
    "\n",
    "KERNELS = [cv.getGaborKernel(**gabor_params, theta=theta) for theta in THETA_RANGE]"
   ]
  },
  {
   "cell_type": "code",
   "execution_count": 36,
   "metadata": {},
   "outputs": [],
   "source": [
    "from joblib import Parallel, delayed\n",
    "\n",
    "def process_image(img_path, label, dir):\n",
    "    \"\"\"\n",
    "    Process a single image: read, preprocess, and apply PCA.\n",
    "    \"\"\"\n",
    "    path = f'{dir}/{label}'\n",
    "    img = cv.imread(f'{path}/{img_path}', 0)\n",
    "    img = cv.resize(img, IMAGE_SIZE)\n",
    "    img = cv.GaussianBlur(img, BLUR, 0)\n",
    "    img = cv.equalizeHist(img)\n",
    "\n",
    "    face_cascade = cv.CascadeClassifier(cv.data.haarcascades + 'haarcascade_frontalface_default.xml')\n",
    "    faces = face_cascade.detectMultiScale(img, scaleFactor=1.1, minNeighbors=5, minSize=(50, 50))\n",
    "\n",
    "    if len(faces) > 0:\n",
    "        x, y, w, h = faces[0]\n",
    "        img = img[y:y+h, x:x+w]\n",
    "    else:\n",
    "        h, w = img.shape[:2]\n",
    "        crop_size = min(h, w)\n",
    "        x = (w - crop_size) // 2\n",
    "        y = (h - crop_size) // 2\n",
    "        img = img[y:y+crop_size, x:x+crop_size]\n",
    "    \n",
    "    img = cv.copyMakeBorder(\n",
    "        img, \n",
    "        5, 5, 5, 5,\n",
    "        cv.BORDER_CONSTANT, \n",
    "        value=(0, 0, 0)\n",
    "    )\n",
    "    \n",
    "    img = cv.resize(img, IMAGE_SIZE)\n",
    "    img = img / 255.0\n",
    "    # img = gabor_filter(img)\n",
    "\n",
    "    # img = img.reshape(img.shape[0], -1)\n",
    "    # pca = PCA(n_components=N_COMPONENTS_LOCAL)\n",
    "    # img = pca.fit_transform(img)\n",
    "\n",
    "    # folder_path = f'C:\\\\Users\\\\vinar\\\\Downloads\\\\gabor-filtered-imgs\\\\FER2013\\\\new\\\\{label}'\n",
    "    # os.makedirs(folder_path, exist_ok=True)\n",
    "    # img_path = img_path.split('.')\n",
    "    # np.save(f'{folder_path}/{img_path[0]}.npy', img)\n",
    "\n",
    "    return img, label\n",
    "\n",
    "\n",
    "def open_dataset(dir):\n",
    "    \"\"\"\n",
    "    Open dataset, load images, preprocess, and return images and labels using parallel processing.\n",
    "    \"\"\"\n",
    "    # Use Parallel from joblib to process images in parallel\n",
    "    results = Parallel(n_jobs=4)(delayed(process_image)(img_path, label, dir)\n",
    "                                   for label in LABELS\n",
    "                                   for img_path in tqdm(os.listdir(f'{dir}/{label}')))\n",
    "\n",
    "    # Unzip the results into images and labels\n",
    "    images, labels = zip(*results)\n",
    "\n",
    "    return np.array(images), np.array(labels)"
   ]
  },
  {
   "cell_type": "code",
   "execution_count": 37,
   "metadata": {},
   "outputs": [
    {
     "name": "stderr",
     "output_type": "stream",
     "text": [
      "100%|██████████| 12000/12000 [01:24<00:00, 142.43it/s]\n",
      "100%|██████████| 12000/12000 [01:26<00:00, 138.35it/s]\n",
      "100%|██████████| 12000/12000 [01:17<00:00, 154.47it/s]\n",
      "100%|██████████| 12000/12000 [01:13<00:00, 162.75it/s]\n",
      "100%|██████████| 12000/12000 [01:16<00:00, 157.02it/s]\n",
      "100%|██████████| 12000/12000 [01:20<00:00, 148.39it/s]\n"
     ]
    }
   ],
   "source": [
    "images, labels = open_dataset(PATH)"
   ]
  },
  {
   "cell_type": "code",
   "execution_count": 4,
   "metadata": {},
   "outputs": [],
   "source": [
    "images = np.load('C:\\\\Users\\\\vinar\\\\Downloads\\\\gabor-filtered-imgs\\\\FER2013\\\\combined\\\\images.npy')\n",
    "labels = np.load('C:\\\\Users\\\\vinar\\\\Downloads\\\\gabor-filtered-imgs\\\\FER2013\\\\combined\\\\labels.npy')"
   ]
  },
  {
   "cell_type": "code",
   "execution_count": 39,
   "metadata": {},
   "outputs": [],
   "source": [
    "images = images.reshape(images.shape[0], -1)"
   ]
  },
  {
   "cell_type": "code",
   "execution_count": 46,
   "metadata": {},
   "outputs": [],
   "source": [
    "TEST_SIZE = 0.2\n",
    "RANDOM_STATE = 42\n",
    "CALIB_SIZE = 0.8\n",
    "TRAIN_SIZE = 10000\n",
    "\n",
    "split_params = {\n",
    "    'test_size': TEST_SIZE,\n",
    "    'random_state': RANDOM_STATE\n",
    "}\n",
    "\n",
    "calib_params = {\n",
    "  'test_size': CALIB_SIZE,\n",
    "  'random_state': RANDOM_STATE\n",
    "}\n",
    "\n",
    "# X_train, X_test, y_train, y_test = train_test_split(images, labels, **split_params, stratify=labels)\n",
    "X_train, _, y_train, _ = train_test_split(\n",
    "    images, labels, train_size=TRAIN_SIZE, stratify=labels, random_state=42\n",
    ")\n",
    "\n",
    "X_train, X_test, y_train, y_test = train_test_split(X_train, y_train, **split_params, stratify=y_train)\n",
    "X_calib, X_test, y_calib, y_test = train_test_split(X_test, y_test, **calib_params, stratify=y_test)"
   ]
  },
  {
   "cell_type": "code",
   "execution_count": 47,
   "metadata": {},
   "outputs": [
    {
     "name": "stdout",
     "output_type": "stream",
     "text": [
      "[LibLinear]Accuracy: 0.30625\n",
      "Precision: 0.308906809323719\n",
      "Recall: 0.3063745506087316\n",
      "F1 Score: 0.29592414760923086\n",
      "AUC Score: 0.6376906582638188\n",
      "              precision    recall  f1-score   support\n",
      "\n",
      "       angry       0.23      0.23      0.23       267\n",
      "        fear       0.30      0.13      0.19       267\n",
      "       happy       0.42      0.33      0.37       266\n",
      "     neutral       0.27      0.48      0.35       266\n",
      "         sad       0.25      0.19      0.22       267\n",
      "    surprise       0.39      0.47      0.43       267\n",
      "\n",
      "    accuracy                           0.31      1600\n",
      "   macro avg       0.31      0.31      0.30      1600\n",
      "weighted avg       0.31      0.31      0.30      1600\n",
      "\n"
     ]
    },
    {
     "data": {
      "application/vnd.jupyter.widget-view+json": {
       "model_id": "3d531cf35ac64aae9e315bd2da728b66",
       "version_major": 2,
       "version_minor": 0
      },
      "text/plain": [
       "Downloading artifacts:   0%|          | 0/7 [00:00<?, ?it/s]"
      ]
     },
     "metadata": {},
     "output_type": "display_data"
    },
    {
     "name": "stdout",
     "output_type": "stream",
     "text": [
      "🏃 View run SVM LinearSVC at: https://dagshub.com/IdjiotSandwiches/face-emotion-recognition.mlflow/#/experiments/19/runs/9e1fe11d160449d880f37ce7ff2ea596\n",
      "🧪 View experiment at: https://dagshub.com/IdjiotSandwiches/face-emotion-recognition.mlflow/#/experiments/19\n"
     ]
    }
   ],
   "source": [
    "model_params = {\n",
    "    'C': 5.0,\n",
    "    # 'penalty': 'l2',\n",
    "    'dual': False,\n",
    "    'verbose': True,\n",
    "    'max_iter': 5000\n",
    "}\n",
    "\n",
    "model = LinearSVC(**model_params).fit(X_train, y_train)\n",
    "model = CalibratedClassifierCV(model, method='isotonic', cv='prefit')\n",
    "model.fit(X_calib, y_calib)\n",
    "\n",
    "predict = model.predict(X_test)\n",
    "predict_proba = model.predict_proba(X_test)\n",
    "\n",
    "metrics = {\n",
    "    'accuracy': accuracy_score(y_test, predict),\n",
    "    'precision': precision_score(y_test, predict, average='macro'),\n",
    "    'recall': recall_score(y_test, predict, average='macro'),\n",
    "    'f1': f1_score(y_test, predict, average='macro'),\n",
    "    'auc_score': roc_auc_score(y_test, predict_proba, multi_class='ovr', average='macro')\n",
    "}\n",
    "\n",
    "print(f\"Accuracy: {metrics['accuracy']}\\nPrecision: {metrics['precision']}\\nRecall: {metrics['recall']}\\nF1 Score: {metrics['f1']}\\nAUC Score: {metrics['auc_score']}\")\n",
    "report = classification_report(y_test, predict)\n",
    "print(report)\n",
    "\n",
    "mlflow.set_experiment(\"SVM_Model FER2013 augmented\")\n",
    "mlflow.set_tracking_uri(\"https://dagshub.com/IdjiotSandwiches/face-emotion-recognition.mlflow\")\n",
    "\n",
    "with mlflow.start_run(run_name=f'SVM LinearSVC'):\n",
    "    # mlflow.log_params(gabor_params)\n",
    "    mlflow.log_params(model_params)\n",
    "    mlflow.log_param('floating_point', FLOATING_POINT)\n",
    "    mlflow.log_param('image_size', IMAGE_SIZE)\n",
    "    # mlflow.log_param('PCA_n_components', N_COMPONENTS)\n",
    "    mlflow.log_param('gaussian_blur', BLUR)\n",
    "    mlflow.log_metrics(metrics)\n",
    "    mlflow.sklearn.log_model(\n",
    "        sk_model=model,\n",
    "        artifact_path='SVM Model',\n",
    "        input_example=X_train[:1]\n",
    "    )"
   ]
  },
  {
   "cell_type": "code",
   "execution_count": 24,
   "metadata": {},
   "outputs": [
    {
     "name": "stdout",
     "output_type": "stream",
     "text": [
      "Fitting 3 folds for each of 16 candidates, totalling 48 fits\n"
     ]
    },
    {
     "ename": "",
     "evalue": "",
     "output_type": "error",
     "traceback": [
      "\u001b[1;31mThe Kernel crashed while executing code in the current cell or a previous cell. \n",
      "\u001b[1;31mPlease review the code in the cell(s) to identify a possible cause of the failure. \n",
      "\u001b[1;31mClick <a href='https://aka.ms/vscodeJupyterKernelCrash'>here</a> for more info. \n",
      "\u001b[1;31mView Jupyter <a href='command:jupyter.viewOutput'>log</a> for further details."
     ]
    }
   ],
   "source": [
    "svc_model = SVC()\n",
    "\n",
    "param_grid = {\n",
    "    'C': [10],\n",
    "    'kernel': ['linear', 'poly', 'rbf', 'sigmoid'],\n",
    "    'degree': [3, 4],\n",
    "    'gamma': ['scale', 'auto']\n",
    "}\n",
    "\n",
    "grid_search = GridSearchCV(\n",
    "    estimator=svc_model,\n",
    "    param_grid=param_grid,\n",
    "    scoring='accuracy',\n",
    "    # n_jobs=4,\n",
    "    cv=3,\n",
    "    verbose=2\n",
    ")\n",
    "\n",
    "grid_search.fit(X_train, y_train)"
   ]
  }
 ],
 "metadata": {
  "kernelspec": {
   "display_name": "Python (External Venv)",
   "language": "python",
   "name": "venv"
  },
  "language_info": {
   "codemirror_mode": {
    "name": "ipython",
    "version": 3
   },
   "file_extension": ".py",
   "mimetype": "text/x-python",
   "name": "python",
   "nbconvert_exporter": "python",
   "pygments_lexer": "ipython3",
   "version": "3.12.3"
  }
 },
 "nbformat": 4,
 "nbformat_minor": 2
}
