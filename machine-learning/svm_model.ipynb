{
 "cells": [
  {
   "cell_type": "code",
   "execution_count": 1,
   "metadata": {},
   "outputs": [],
   "source": [
    "import cv2 as cv\n",
    "import numpy as np\n",
    "import mlflow\n",
    "import dagshub\n",
    "import os\n",
    "import pathlib\n",
    "import pandas as pd\n",
    "from sklearn.model_selection import train_test_split\n",
    "from sklearn.metrics import accuracy_score, precision_score, recall_score, f1_score, classification_report, confusion_matrix, roc_auc_score, roc_curve\n",
    "from sklearn.calibration import CalibratedClassifierCV\n",
    "from sklearn.model_selection import StratifiedKFold, cross_val_score\n",
    "from sklearn.decomposition import PCA\n",
    "from sklearn.preprocessing import StandardScaler\n",
    "import matplotlib.pyplot as plt\n",
    "from sklearn.svm import SVC, LinearSVC\n",
    "from sklearn.model_selection import GridSearchCV\n",
    "import pickle"
   ]
  },
  {
   "cell_type": "code",
   "execution_count": 2,
   "metadata": {},
   "outputs": [],
   "source": [
    "PATH = pathlib.Path('C:\\\\Users\\\\vinar\\\\Downloads\\\\FER2013-augmented')\n",
    "LABELS = os.listdir(PATH)"
   ]
  },
  {
   "cell_type": "code",
   "execution_count": 3,
   "metadata": {},
   "outputs": [
    {
     "data": {
      "text/html": [
       "<pre style=\"white-space:pre;overflow-x:auto;line-height:normal;font-family:Menlo,'DejaVu Sans Mono',consolas,'Courier New',monospace\">Accessing as IdjiotSandwiches\n",
       "</pre>\n"
      ],
      "text/plain": [
       "Accessing as IdjiotSandwiches\n"
      ]
     },
     "metadata": {},
     "output_type": "display_data"
    },
    {
     "data": {
      "text/html": [
       "<pre style=\"white-space:pre;overflow-x:auto;line-height:normal;font-family:Menlo,'DejaVu Sans Mono',consolas,'Courier New',monospace\">Initialized MLflow to track repo <span style=\"color: #008000; text-decoration-color: #008000\">\"IdjiotSandwiches/face-emotion-recognition\"</span>\n",
       "</pre>\n"
      ],
      "text/plain": [
       "Initialized MLflow to track repo \u001b[32m\"IdjiotSandwiches/face-emotion-recognition\"\u001b[0m\n"
      ]
     },
     "metadata": {},
     "output_type": "display_data"
    },
    {
     "data": {
      "text/html": [
       "<pre style=\"white-space:pre;overflow-x:auto;line-height:normal;font-family:Menlo,'DejaVu Sans Mono',consolas,'Courier New',monospace\">Repository IdjiotSandwiches/face-emotion-recognition initialized!\n",
       "</pre>\n"
      ],
      "text/plain": [
       "Repository IdjiotSandwiches/face-emotion-recognition initialized!\n"
      ]
     },
     "metadata": {},
     "output_type": "display_data"
    }
   ],
   "source": [
    "dagshub.init(repo_owner='IdjiotSandwiches', repo_name='face-emotion-recognition', mlflow=True)"
   ]
  },
  {
   "cell_type": "code",
   "execution_count": 4,
   "metadata": {},
   "outputs": [],
   "source": [
    "K_SIZE = (21,21)\n",
    "SIGMA = 3\n",
    "THETA_RANGE = np.arange(0, np.pi, np.pi/32)\n",
    "LAMBD = 10.0\n",
    "GAMMA = 0.5\n",
    "PSI = 0\n",
    "FLOATING_POINT = cv.CV_32F\n",
    "IMAGE_SIZE = (224,224)\n",
    "N_COMPONENTS = 0.95\n",
    "N_COMPONENTS_LOCAL = 16\n",
    "BLUR = (5,5)\n",
    "\n",
    "gabor_params = {\n",
    "    'ksize': K_SIZE,\n",
    "    'sigma': SIGMA,\n",
    "    'lambd': LAMBD,\n",
    "    'gamma': GAMMA,\n",
    "    'psi': PSI\n",
    "}\n",
    "\n",
    "KERNELS = [cv.getGaborKernel(**gabor_params, theta=theta) for theta in THETA_RANGE]"
   ]
  },
  {
   "cell_type": "code",
   "execution_count": 4,
   "metadata": {},
   "outputs": [],
   "source": [
    "images = np.load('C:\\\\Users\\\\vinar\\\\Downloads\\\\gabor-filtered-imgs\\\\FER2013\\\\combined\\\\images.npy')\n",
    "labels = np.load('C:\\\\Users\\\\vinar\\\\Downloads\\\\gabor-filtered-imgs\\\\FER2013\\\\combined\\\\labels.npy')"
   ]
  },
  {
   "cell_type": "code",
   "execution_count": 14,
   "metadata": {},
   "outputs": [],
   "source": [
    "TEST_SIZE = 0.2\n",
    "RANDOM_STATE = 42\n",
    "CALIB_SIZE = 0.7\n",
    "\n",
    "split_params = {\n",
    "    'test_size': TEST_SIZE,\n",
    "    'random_state': RANDOM_STATE\n",
    "}\n",
    "\n",
    "calib_params = {\n",
    "  'test_size': CALIB_SIZE,\n",
    "  'random_state': RANDOM_STATE\n",
    "}\n",
    "\n",
    "X_train, X_test, y_train, y_test = train_test_split(images, labels, **split_params, stratify=labels)\n",
    "X_calib, X_test, y_calib, y_test = train_test_split(X_test, y_test, **calib_params, stratify=y_test)\n",
    "# X_train, _, y_train, _ = train_test_split(\n",
    "#     X_train, y_train, train_size=2000, stratify=y_train, random_state=42\n",
    "# )"
   ]
  },
  {
   "cell_type": "code",
   "execution_count": 24,
   "metadata": {},
   "outputs": [
    {
     "name": "stdout",
     "output_type": "stream",
     "text": [
      "Fitting 3 folds for each of 16 candidates, totalling 48 fits\n"
     ]
    },
    {
     "ename": "",
     "evalue": "",
     "output_type": "error",
     "traceback": [
      "\u001b[1;31mThe Kernel crashed while executing code in the current cell or a previous cell. \n",
      "\u001b[1;31mPlease review the code in the cell(s) to identify a possible cause of the failure. \n",
      "\u001b[1;31mClick <a href='https://aka.ms/vscodeJupyterKernelCrash'>here</a> for more info. \n",
      "\u001b[1;31mView Jupyter <a href='command:jupyter.viewOutput'>log</a> for further details."
     ]
    }
   ],
   "source": [
    "svc_model = SVC()\n",
    "\n",
    "param_grid = {\n",
    "    'C': [10],\n",
    "    'kernel': ['linear', 'poly', 'rbf', 'sigmoid'],\n",
    "    'degree': [3, 4],\n",
    "    'gamma': ['scale', 'auto']\n",
    "}\n",
    "\n",
    "grid_search = GridSearchCV(\n",
    "    estimator=svc_model,\n",
    "    param_grid=param_grid,\n",
    "    scoring='accuracy',\n",
    "    # n_jobs=4,\n",
    "    cv=3,\n",
    "    verbose=2\n",
    ")\n",
    "\n",
    "grid_search.fit(X_train, y_train)"
   ]
  },
  {
   "cell_type": "code",
   "execution_count": 15,
   "metadata": {},
   "outputs": [
    {
     "name": "stdout",
     "output_type": "stream",
     "text": [
      "[LibLinear]Accuracy: 0.19464285714285715\n",
      "Precision: 0.19169995383732086\n",
      "Recall: 0.19464285714285712\n",
      "F1 Score: 0.15800203516810069\n",
      "AUC Score: 0.5304509223828421\n",
      "              precision    recall  f1-score   support\n",
      "\n",
      "       angry       0.17      0.05      0.08      1680\n",
      "        fear       0.18      0.14      0.16      1680\n",
      "       happy       0.20      0.07      0.10      1680\n",
      "     neutral       0.20      0.60      0.29      1680\n",
      "         sad       0.20      0.06      0.09      1680\n",
      "    surprise       0.20      0.26      0.23      1680\n",
      "\n",
      "    accuracy                           0.19     10080\n",
      "   macro avg       0.19      0.19      0.16     10080\n",
      "weighted avg       0.19      0.19      0.16     10080\n",
      "\n",
      "🏃 View run SVM LinearSVC at: https://dagshub.com/IdjiotSandwiches/face-emotion-recognition.mlflow/#/experiments/19/runs/38f1db51d4444e8a8f75d05376a7d2f7\n",
      "🧪 View experiment at: https://dagshub.com/IdjiotSandwiches/face-emotion-recognition.mlflow/#/experiments/19\n"
     ]
    },
    {
     "ename": "NameError",
     "evalue": "name 'FLOATING_POINT' is not defined",
     "output_type": "error",
     "traceback": [
      "\u001b[1;31m---------------------------------------------------------------------------\u001b[0m",
      "\u001b[1;31mNameError\u001b[0m                                 Traceback (most recent call last)",
      "Cell \u001b[1;32mIn[15], line 34\u001b[0m\n\u001b[0;32m     31\u001b[0m \u001b[38;5;28;01mwith\u001b[39;00m mlflow\u001b[38;5;241m.\u001b[39mstart_run(run_name\u001b[38;5;241m=\u001b[39m\u001b[38;5;124mf\u001b[39m\u001b[38;5;124m'\u001b[39m\u001b[38;5;124mSVM LinearSVC\u001b[39m\u001b[38;5;124m'\u001b[39m):\n\u001b[0;32m     32\u001b[0m     \u001b[38;5;66;03m# mlflow.log_params(gabor_params)\u001b[39;00m\n\u001b[0;32m     33\u001b[0m     mlflow\u001b[38;5;241m.\u001b[39mlog_params(model_params)\n\u001b[1;32m---> 34\u001b[0m     mlflow\u001b[38;5;241m.\u001b[39mlog_param(\u001b[38;5;124m'\u001b[39m\u001b[38;5;124mfloating_point\u001b[39m\u001b[38;5;124m'\u001b[39m, \u001b[43mFLOATING_POINT\u001b[49m)\n\u001b[0;32m     35\u001b[0m     mlflow\u001b[38;5;241m.\u001b[39mlog_param(\u001b[38;5;124m'\u001b[39m\u001b[38;5;124mimage_size\u001b[39m\u001b[38;5;124m'\u001b[39m, IMAGE_SIZE)\n\u001b[0;32m     36\u001b[0m     \u001b[38;5;66;03m# mlflow.log_param('PCA_n_components', N_COMPONENTS)\u001b[39;00m\n",
      "\u001b[1;31mNameError\u001b[0m: name 'FLOATING_POINT' is not defined"
     ]
    }
   ],
   "source": [
    "model_params = {\n",
    "    'C': 20.0,\n",
    "    # 'penalty': 'l2',\n",
    "    'dual': False,\n",
    "    'verbose': True,\n",
    "    'max_iter': 5000\n",
    "}\n",
    "\n",
    "model = LinearSVC(**model_params).fit(X_train, y_train)\n",
    "model = CalibratedClassifierCV(model, method='isotonic', cv='prefit')\n",
    "model.fit(X_calib, y_calib)\n",
    "\n",
    "predict = model.predict(X_test)\n",
    "predict_proba = model.predict_proba(X_test)\n",
    "\n",
    "metrics = {\n",
    "    'accuracy': accuracy_score(y_test, predict),\n",
    "    'precision': precision_score(y_test, predict, average='macro'),\n",
    "    'recall': recall_score(y_test, predict, average='macro'),\n",
    "    'f1': f1_score(y_test, predict, average='macro'),\n",
    "    'auc_score': roc_auc_score(y_test, predict_proba, multi_class='ovr', average='macro')\n",
    "}\n",
    "\n",
    "print(f\"Accuracy: {metrics['accuracy']}\\nPrecision: {metrics['precision']}\\nRecall: {metrics['recall']}\\nF1 Score: {metrics['f1']}\\nAUC Score: {metrics['auc_score']}\")\n",
    "report = classification_report(y_test, predict)\n",
    "print(report)\n",
    "\n",
    "mlflow.set_experiment(\"SVM_Model FER2013 augmented\")\n",
    "mlflow.set_tracking_uri(\"https://dagshub.com/IdjiotSandwiches/face-emotion-recognition.mlflow\")\n",
    "\n",
    "with mlflow.start_run(run_name=f'SVM LinearSVC'):\n",
    "    # mlflow.log_params(gabor_params)\n",
    "    mlflow.log_params(model_params)\n",
    "    mlflow.log_param('floating_point', FLOATING_POINT)\n",
    "    mlflow.log_param('image_size', IMAGE_SIZE)\n",
    "    # mlflow.log_param('PCA_n_components', N_COMPONENTS)\n",
    "    mlflow.log_param('gaussian_blur', BLUR)\n",
    "    mlflow.log_metrics(metrics)\n",
    "    mlflow.sklearn.log_model(\n",
    "        sk_model=model,\n",
    "        artifact_path='SVM Model',\n",
    "        input_example=X_train[:1]\n",
    "    )"
   ]
  }
 ],
 "metadata": {
  "kernelspec": {
   "display_name": "Python (External Venv)",
   "language": "python",
   "name": "venv"
  },
  "language_info": {
   "codemirror_mode": {
    "name": "ipython",
    "version": 3
   },
   "file_extension": ".py",
   "mimetype": "text/x-python",
   "name": "python",
   "nbconvert_exporter": "python",
   "pygments_lexer": "ipython3",
   "version": "3.12.3"
  }
 },
 "nbformat": 4,
 "nbformat_minor": 2
}
