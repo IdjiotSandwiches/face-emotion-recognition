{
  "cells": [
    {
      "cell_type": "markdown",
      "metadata": {
        "colab_type": "text",
        "id": "view-in-github"
      },
      "source": [
        "<a href=\"https://colab.research.google.com/github/IdjiotSandwiches/face-emotion-recognition/blob/data-augmentation/data_augmentation.ipynb\" target=\"_parent\"><img src=\"https://colab.research.google.com/assets/colab-badge.svg\" alt=\"Open In Colab\"/></a>"
      ]
    },
    {
      "cell_type": "code",
      "execution_count": 10,
      "metadata": {
        "id": "-qnEnkZZokh9"
      },
      "outputs": [],
      "source": [
        "import cv2 as cv\n",
        "import os\n",
        "import pathlib\n",
        "import random\n",
        "import tensorflow as tf\n",
        "from tensorflow.keras.preprocessing.image import ImageDataGenerator, img_to_array, load_img\n",
        "from tensorflow.keras.preprocessing import image\n",
        "from tensorflow.keras.utils import img_to_array\n",
        "import matplotlib.pyplot as plt\n",
        "import numpy as np"
      ]
    },
    {
      "cell_type": "code",
      "execution_count": 7,
      "metadata": {},
      "outputs": [],
      "source": [
        "datagen = ImageDataGenerator(\n",
        "    rescale=1./255,\n",
        "    rotation_range=30,\n",
        "    zoom_range=0.2,\n",
        "    width_shift_range=0.2,\n",
        "    height_shift_range=0.2,\n",
        "    horizontal_flip=True,\n",
        "    fill_mode='nearest',\n",
        "    shear_range=0.2,\n",
        ")"
      ]
    },
    {
      "cell_type": "code",
      "execution_count": 22,
      "metadata": {},
      "outputs": [],
      "source": [
        "def augment_and_save(image_path, save_dir, label, num_augmented_images=8):\n",
        "    img = image.load_img(image_path)\n",
        "    x = img_to_array(img)\n",
        "    x = np.expand_dims(x, axis=0)\n",
        "    \n",
        "    i = 0\n",
        "    for batch in datagen.flow(x, batch_size=1, save_to_dir=save_dir, save_prefix=label, save_format='png'):\n",
        "        i += 1\n",
        "        if i >= num_augmented_images:\n",
        "            break"
      ]
    },
    {
      "cell_type": "code",
      "execution_count": 23,
      "metadata": {},
      "outputs": [],
      "source": [
        "image_folder = 'C:\\\\Users\\\\vinar\\\\Downloads\\\\facial-emotion-recognition'\n",
        "save_folder = 'C:\\\\Users\\\\vinar\\\\Downloads\\\\facial-emotion-recognition-augmented'\n",
        "\n",
        "LABELS = os.listdir(image_folder)\n",
        "\n",
        "for label in LABELS:\n",
        "    label_path = f'{image_folder}/{label}'\n",
        "    save_dir = f'{save_folder}/{label}'\n",
        "    os.makedirs(save_dir, exist_ok=True)\n",
        "    for img in os.listdir(label_path):\n",
        "        img_path = f'{label_path}/{img}'\n",
        "        augment_and_save(img_path, save_dir, label)"
      ]
    },
    {
      "cell_type": "markdown",
      "metadata": {},
      "source": [
        "## **Close all**"
      ]
    },
    {
      "cell_type": "code",
      "execution_count": 2,
      "metadata": {
        "id": "TW8vKjlABf0D"
      },
      "outputs": [
        {
          "ename": "ModuleNotFoundError",
          "evalue": "No module named 'google.colab'",
          "output_type": "error",
          "traceback": [
            "\u001b[1;31m---------------------------------------------------------------------------\u001b[0m",
            "\u001b[1;31mModuleNotFoundError\u001b[0m                       Traceback (most recent call last)",
            "Cell \u001b[1;32mIn[2], line 1\u001b[0m\n\u001b[1;32m----> 1\u001b[0m \u001b[38;5;28;01mfrom\u001b[39;00m \u001b[38;5;21;01mgoogle\u001b[39;00m\u001b[38;5;21;01m.\u001b[39;00m\u001b[38;5;21;01mcolab\u001b[39;00m \u001b[38;5;28;01mimport\u001b[39;00m drive\n\u001b[0;32m      2\u001b[0m drive\u001b[38;5;241m.\u001b[39mmount(\u001b[38;5;124m'\u001b[39m\u001b[38;5;124m/content/drive\u001b[39m\u001b[38;5;124m'\u001b[39m)\n\u001b[0;32m      4\u001b[0m get_ipython()\u001b[38;5;241m.\u001b[39mrun_line_magic(\u001b[38;5;124m'\u001b[39m\u001b[38;5;124mcd\u001b[39m\u001b[38;5;124m'\u001b[39m, \u001b[38;5;124m'\u001b[39m\u001b[38;5;124m\"\u001b[39m\u001b[38;5;124m/content/drive/MyDrive/\u001b[39m\u001b[38;5;124m\"\u001b[39m\u001b[38;5;124m'\u001b[39m)\n",
            "\u001b[1;31mModuleNotFoundError\u001b[0m: No module named 'google.colab'"
          ]
        }
      ],
      "source": [
        "from google.colab import drive\n",
        "drive.mount('/content/drive')\n",
        "\n",
        "%cd \"/content/drive/MyDrive/\""
      ]
    },
    {
      "cell_type": "code",
      "execution_count": 4,
      "metadata": {
        "id": "T9v4lL4HBhPz"
      },
      "outputs": [],
      "source": [
        "PATH = pathlib.Path('C:\\\\Users\\\\vinar\\\\Downloads\\\\facial-emotion-recognition')\n",
        "LABELS = os.listdir(PATH)"
      ]
    },
    {
      "cell_type": "code",
      "execution_count": 10,
      "metadata": {
        "colab": {
          "base_uri": "https://localhost:8080/"
        },
        "id": "09nWPzP_nB2k",
        "outputId": "b93f515c-2336-42dd-b6a0-f3ea56b5483f"
      },
      "outputs": [
        {
          "name": "stdout",
          "output_type": "stream",
          "text": [
            "angry: 890\n",
            "disgust: 439\n",
            "fear: 570\n",
            "happy: 1406\n",
            "neutral: 524\n",
            "sad: 746\n",
            "surprise: 775\n",
            "Highest count: 2500\n"
          ]
        }
      ],
      "source": [
        "count = []\n",
        "for label in LABELS:\n",
        "  dir = f'{PATH}/{label}'\n",
        "  folder_item_count = len(os.listdir(dir))\n",
        "  count.append(folder_item_count)\n",
        "  print(f'{label}: {folder_item_count}')\n",
        "\n",
        "HIGHEST_COUNT = max(count) + 1094\n",
        "print(f'Highest count: {HIGHEST_COUNT}')"
      ]
    },
    {
      "cell_type": "code",
      "execution_count": 11,
      "metadata": {
        "id": "DrnZP-IrxxTZ"
      },
      "outputs": [],
      "source": [
        "def rotate(img):\n",
        "  Cx, Cy = img.shape[:2]\n",
        "  rand_angle = random.randint(-180,180)\n",
        "  M = cv.getRotationMatrix2D((Cy//2, Cx//2),rand_angle ,1)\n",
        "  img = cv.warpAffine(img, M, (Cx, Cy))\n",
        "  return img\n",
        "\n",
        "def flip(img):\n",
        "  num = [0, 1, -1]\n",
        "  img = cv.flip(img, random.choice(num))\n",
        "  return img\n",
        "\n",
        "def noise(img):\n",
        "  row, col = img.shape[:2]\n",
        "  number_of_pixels = random.randint(300, 1000)\n",
        "  for i in range(number_of_pixels):\n",
        "    y_coord=random.randint(0, row - 1)\n",
        "    x_coord=random.randint(0, col - 1)\n",
        "    img[y_coord][x_coord] = 255\n",
        "\n",
        "  number_of_pixels = random.randint(300 , 1000)\n",
        "  for i in range(number_of_pixels):\n",
        "      y_coord=random.randint(0, row - 1)\n",
        "      x_coord=random.randint(0, col - 1)\n",
        "      img[y_coord][x_coord] = 0\n",
        "  return img"
      ]
    },
    {
      "cell_type": "code",
      "execution_count": 6,
      "metadata": {
        "id": "BkBMgrDHohXx"
      },
      "outputs": [],
      "source": [
        "data = {}\n",
        "\n",
        "for i, label in enumerate(LABELS):\n",
        "  path = f'{PATH}/{label}'\n",
        "  data[label] = []\n",
        "  for j, img_path in enumerate(os.listdir(path)):\n",
        "    img = cv.imread(f'{path}/{img_path}')\n",
        "    data[label].append(img)"
      ]
    },
    {
      "cell_type": "code",
      "execution_count": 12,
      "metadata": {
        "id": "KkD3gLF8qjrU"
      },
      "outputs": [
        {
          "ename": "KeyboardInterrupt",
          "evalue": "",
          "output_type": "error",
          "traceback": [
            "\u001b[1;31m---------------------------------------------------------------------------\u001b[0m",
            "\u001b[1;31mKeyboardInterrupt\u001b[0m                         Traceback (most recent call last)",
            "Cell \u001b[1;32mIn[12], line 16\u001b[0m\n\u001b[0;32m     14\u001b[0m   img \u001b[38;5;241m=\u001b[39m flip(img)\n\u001b[0;32m     15\u001b[0m \u001b[38;5;28;01melif\u001b[39;00m(rand \u001b[38;5;241m==\u001b[39m \u001b[38;5;241m3\u001b[39m):\n\u001b[1;32m---> 16\u001b[0m   img \u001b[38;5;241m=\u001b[39m \u001b[43mnoise\u001b[49m\u001b[43m(\u001b[49m\u001b[43mimg\u001b[49m\u001b[43m)\u001b[49m\n\u001b[0;32m     18\u001b[0m data[label]\u001b[38;5;241m.\u001b[39mappend(img)\n",
            "Cell \u001b[1;32mIn[11], line 24\u001b[0m, in \u001b[0;36mnoise\u001b[1;34m(img)\u001b[0m\n\u001b[0;32m     22\u001b[0m \u001b[38;5;28;01mfor\u001b[39;00m i \u001b[38;5;129;01min\u001b[39;00m \u001b[38;5;28mrange\u001b[39m(number_of_pixels):\n\u001b[0;32m     23\u001b[0m     y_coord\u001b[38;5;241m=\u001b[39mrandom\u001b[38;5;241m.\u001b[39mrandint(\u001b[38;5;241m0\u001b[39m, row \u001b[38;5;241m-\u001b[39m \u001b[38;5;241m1\u001b[39m)\n\u001b[1;32m---> 24\u001b[0m     x_coord\u001b[38;5;241m=\u001b[39m\u001b[43mrandom\u001b[49m\u001b[38;5;241;43m.\u001b[39;49m\u001b[43mrandint\u001b[49m\u001b[43m(\u001b[49m\u001b[38;5;241;43m0\u001b[39;49m\u001b[43m,\u001b[49m\u001b[43m \u001b[49m\u001b[43mcol\u001b[49m\u001b[43m \u001b[49m\u001b[38;5;241;43m-\u001b[39;49m\u001b[43m \u001b[49m\u001b[38;5;241;43m1\u001b[39;49m\u001b[43m)\u001b[49m\n\u001b[0;32m     25\u001b[0m     img[y_coord][x_coord] \u001b[38;5;241m=\u001b[39m \u001b[38;5;241m0\u001b[39m\n\u001b[0;32m     26\u001b[0m \u001b[38;5;28;01mreturn\u001b[39;00m img\n",
            "File \u001b[1;32m~\\AppData\\Local\\Programs\\Python\\Python312\\Lib\\random.py:336\u001b[0m, in \u001b[0;36mRandom.randint\u001b[1;34m(self, a, b)\u001b[0m\n\u001b[0;32m    332\u001b[0m \u001b[38;5;28;01mdef\u001b[39;00m \u001b[38;5;21mrandint\u001b[39m(\u001b[38;5;28mself\u001b[39m, a, b):\n\u001b[0;32m    333\u001b[0m \u001b[38;5;250m    \u001b[39m\u001b[38;5;124;03m\"\"\"Return random integer in range [a, b], including both end points.\u001b[39;00m\n\u001b[0;32m    334\u001b[0m \u001b[38;5;124;03m    \"\"\"\u001b[39;00m\n\u001b[1;32m--> 336\u001b[0m     \u001b[38;5;28;01mreturn\u001b[39;00m \u001b[38;5;28;43mself\u001b[39;49m\u001b[38;5;241;43m.\u001b[39;49m\u001b[43mrandrange\u001b[49m\u001b[43m(\u001b[49m\u001b[43ma\u001b[49m\u001b[43m,\u001b[49m\u001b[43m \u001b[49m\u001b[43mb\u001b[49m\u001b[38;5;241;43m+\u001b[39;49m\u001b[38;5;241;43m1\u001b[39;49m\u001b[43m)\u001b[49m\n",
            "File \u001b[1;32m~\\AppData\\Local\\Programs\\Python\\Python312\\Lib\\random.py:318\u001b[0m, in \u001b[0;36mRandom.randrange\u001b[1;34m(self, start, stop, step)\u001b[0m\n\u001b[0;32m    316\u001b[0m \u001b[38;5;28;01mif\u001b[39;00m istep \u001b[38;5;241m==\u001b[39m \u001b[38;5;241m1\u001b[39m:\n\u001b[0;32m    317\u001b[0m     \u001b[38;5;28;01mif\u001b[39;00m width \u001b[38;5;241m>\u001b[39m \u001b[38;5;241m0\u001b[39m:\n\u001b[1;32m--> 318\u001b[0m         \u001b[38;5;28;01mreturn\u001b[39;00m istart \u001b[38;5;241m+\u001b[39m \u001b[38;5;28;43mself\u001b[39;49m\u001b[38;5;241;43m.\u001b[39;49m\u001b[43m_randbelow\u001b[49m\u001b[43m(\u001b[49m\u001b[43mwidth\u001b[49m\u001b[43m)\u001b[49m\n\u001b[0;32m    319\u001b[0m     \u001b[38;5;28;01mraise\u001b[39;00m \u001b[38;5;167;01mValueError\u001b[39;00m(\u001b[38;5;124mf\u001b[39m\u001b[38;5;124m\"\u001b[39m\u001b[38;5;124mempty range in randrange(\u001b[39m\u001b[38;5;132;01m{\u001b[39;00mstart\u001b[38;5;132;01m}\u001b[39;00m\u001b[38;5;124m, \u001b[39m\u001b[38;5;132;01m{\u001b[39;00mstop\u001b[38;5;132;01m}\u001b[39;00m\u001b[38;5;124m)\u001b[39m\u001b[38;5;124m\"\u001b[39m)\n\u001b[0;32m    321\u001b[0m \u001b[38;5;66;03m# Non-unit step argument supplied.\u001b[39;00m\n",
            "File \u001b[1;32m~\\AppData\\Local\\Programs\\Python\\Python312\\Lib\\random.py:246\u001b[0m, in \u001b[0;36mRandom._randbelow_with_getrandbits\u001b[1;34m(self, n)\u001b[0m\n\u001b[0;32m    243\u001b[0m \u001b[38;5;124m\"\u001b[39m\u001b[38;5;124mReturn a random int in the range [0,n).  Defined for n > 0.\u001b[39m\u001b[38;5;124m\"\u001b[39m\n\u001b[0;32m    245\u001b[0m getrandbits \u001b[38;5;241m=\u001b[39m \u001b[38;5;28mself\u001b[39m\u001b[38;5;241m.\u001b[39mgetrandbits\n\u001b[1;32m--> 246\u001b[0m k \u001b[38;5;241m=\u001b[39m \u001b[43mn\u001b[49m\u001b[38;5;241;43m.\u001b[39;49m\u001b[43mbit_length\u001b[49m\u001b[43m(\u001b[49m\u001b[43m)\u001b[49m\n\u001b[0;32m    247\u001b[0m r \u001b[38;5;241m=\u001b[39m getrandbits(k)  \u001b[38;5;66;03m# 0 <= r < 2**k\u001b[39;00m\n\u001b[0;32m    248\u001b[0m \u001b[38;5;28;01mwhile\u001b[39;00m r \u001b[38;5;241m>\u001b[39m\u001b[38;5;241m=\u001b[39m n:\n",
            "\u001b[1;31mKeyboardInterrupt\u001b[0m: "
          ]
        }
      ],
      "source": [
        "for label in LABELS:\n",
        "  images = data[label]\n",
        "  for img in images:\n",
        "    if(len(data[label]) == HIGHEST_COUNT):\n",
        "      break\n",
        "\n",
        "    num = [1,2,3]\n",
        "    rand = random.choice(num)\n",
        "\n",
        "    for i in range(8):\n",
        "      if(rand == 1):\n",
        "        img = rotate(img)\n",
        "      elif(rand == 2):\n",
        "        img = flip(img)\n",
        "      elif(rand == 3):\n",
        "        img = noise(img)\n",
        "\n",
        "      data[label].append(img)"
      ]
    },
    {
      "cell_type": "code",
      "execution_count": null,
      "metadata": {
        "colab": {
          "base_uri": "https://localhost:8080/"
        },
        "id": "La_cMjQT7Uz6",
        "outputId": "13f1807d-ddaf-4bd8-9b53-eae351528b8b"
      },
      "outputs": [
        {
          "name": "stdout",
          "output_type": "stream",
          "text": [
            "surprise\n",
            "disgust\n",
            "fear\n",
            "neutral\n",
            "happy\n",
            "sad\n",
            "angry\n"
          ]
        }
      ],
      "source": [
        "for label in LABELS:\n",
        "  print(label)\n",
        "  for i, img in enumerate(data[label]):\n",
        "    path = f'C:\\\\Users\\\\vinar\\\\Downloads\\\\facial-emotion-recognition\\\\{label}'\n",
        "    os.makedirs(path, exist_ok=True)\n",
        "\n",
        "    img_name = f'{path}/{label}_{i}.png'\n",
        "    cv.imwrite(img_name, img)"
      ]
    }
  ],
  "metadata": {
    "colab": {
      "authorship_tag": "ABX9TyPsysFYWZhSVISQMWkRBVI1",
      "include_colab_link": true,
      "provenance": []
    },
    "kernelspec": {
      "display_name": "Python (External Venv)",
      "language": "python",
      "name": "venv"
    },
    "language_info": {
      "codemirror_mode": {
        "name": "ipython",
        "version": 3
      },
      "file_extension": ".py",
      "mimetype": "text/x-python",
      "name": "python",
      "nbconvert_exporter": "python",
      "pygments_lexer": "ipython3",
      "version": "3.12.3"
    }
  },
  "nbformat": 4,
  "nbformat_minor": 0
}
