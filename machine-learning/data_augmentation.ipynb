{
  "cells": [
    {
      "cell_type": "markdown",
      "metadata": {
        "colab_type": "text",
        "id": "view-in-github"
      },
      "source": [
        "<a href=\"https://colab.research.google.com/github/IdjiotSandwiches/face-emotion-recognition/blob/data-augmentation/data_augmentation.ipynb\" target=\"_parent\"><img src=\"https://colab.research.google.com/assets/colab-badge.svg\" alt=\"Open In Colab\"/></a>"
      ]
    },
    {
      "cell_type": "code",
      "execution_count": 7,
      "metadata": {},
      "outputs": [
        {
          "name": "stderr",
          "output_type": "stream",
          "text": [
            "d:\\PythonProject\\env\\Lib\\site-packages\\albumentations\\__init__.py:24: UserWarning: A new version of Albumentations is available: 1.4.23 (you have 1.4.22). Upgrade using: pip install -U albumentations. To disable automatic update checks, set the environment variable NO_ALBUMENTATIONS_UPDATE to 1.\n",
            "  check_for_updates()\n"
          ]
        }
      ],
      "source": [
        "import os\n",
        "import cv2\n",
        "import albumentations as A\n",
        "from albumentations.core.composition import OneOf\n",
        "from albumentations import HorizontalFlip, RandomBrightnessContrast, ShiftScaleRotate\n",
        "from albumentations import Normalize\n",
        "from tqdm import tqdm\n",
        "import numpy as np"
      ]
    },
    {
      "cell_type": "code",
      "execution_count": 4,
      "metadata": {
        "id": "DrnZP-IrxxTZ"
      },
      "outputs": [],
      "source": [
        "def rotate(img):\n",
        "  Cx, Cy = img.shape[:2]\n",
        "  rand_angle = random.randint(-180,180)\n",
        "  M = cv.getRotationMatrix2D((Cy//2, Cx//2),rand_angle ,1)\n",
        "  img = cv.warpAffine(img, M, (Cx, Cy))\n",
        "  return img\n",
        "\n",
        "def flip(img):\n",
        "  num = [0, 1, -1]\n",
        "  img = cv.flip(img, random.choice(num))\n",
        "  return img\n",
        "\n",
        "def noise(img):\n",
        "  row, col = img.shape[:2]\n",
        "  number_of_pixels = random.randint(300, 1000)\n",
        "  for i in range(number_of_pixels):\n",
        "    y_coord=random.randint(0, row - 1)\n",
        "    x_coord=random.randint(0, col - 1)\n",
        "    img[y_coord][x_coord] = 255\n",
        "\n",
        "  number_of_pixels = random.randint(300 , 1000)\n",
        "  for i in range(number_of_pixels):\n",
        "      y_coord=random.randint(0, row - 1)\n",
        "      x_coord=random.randint(0, col - 1)\n",
        "      img[y_coord][x_coord] = 0\n",
        "  return img"
      ]
    },
    {
      "cell_type": "code",
      "execution_count": 8,
      "metadata": {},
      "outputs": [],
      "source": [
        "transform = A.Compose([\n",
        "    A.Resize(224, 224),\n",
        "    A.RandomBrightnessContrast(p=0.5),\n",
        "    A.HorizontalFlip(p=0.5),\n",
        "    A.RandomScale(scale_limit=0.2, p=0.5),\n",
        "    A.Rotate(limit=15, p=0.5),\n",
        "])"
      ]
    },
    {
      "cell_type": "code",
      "execution_count": 9,
      "metadata": {},
      "outputs": [],
      "source": [
        "def augment_and_save(input_dir, output_dir, num_augments=3):\n",
        "    \"\"\"\n",
        "    Creates augmented images from a dataset and saves them to disk.\n",
        "\n",
        "    Args:\n",
        "        input_dir (str): Path to the original dataset directory (with class subfolders).\n",
        "        output_dir (str): Path to save the augmented dataset.\n",
        "        num_augments (int): Number of augmented images to create per original image.\n",
        "    \"\"\"\n",
        "    if not os.path.exists(output_dir):\n",
        "        os.makedirs(output_dir)\n",
        "\n",
        "    # Loop through each class folder\n",
        "    for class_name in os.listdir(input_dir):\n",
        "        if(class_name == 'disgust'):\n",
        "            continue\n",
        "        class_path = os.path.join(input_dir, class_name)\n",
        "        if not os.path.isdir(class_path):\n",
        "            continue  # Skip non-folder files\n",
        "\n",
        "        # Create a corresponding folder in the output directory\n",
        "        output_class_path = os.path.join(output_dir, class_name)\n",
        "        os.makedirs(output_class_path, exist_ok=True)\n",
        "\n",
        "        # Loop through each image in the class folder\n",
        "        for img_name in tqdm(os.listdir(class_path), desc=f\"Processing {class_name}\"):\n",
        "            # if(len(os.listdir(f'{output_dir}/{class_name}')) == 3000):\n",
        "            #     break\n",
        "            img_path = os.path.join(class_path, img_name)\n",
        "            image = cv2.imread(img_path)  # Load the image\n",
        "            if image is None:\n",
        "                continue  # Skip unreadable images\n",
        "            image = cv2.cvtColor(image, cv2.COLOR_BGR2RGB)\n",
        "\n",
        "            # Save original image\n",
        "            original_output_path = os.path.join(output_class_path, img_name)\n",
        "            cv2.imwrite(original_output_path, cv2.cvtColor(image, cv2.COLOR_RGB2BGR))\n",
        "\n",
        "            # Generate and save augmented images\n",
        "            for i in range(num_augments):\n",
        "                # if(len(os.listdir(f'{output_dir}/{class_name}')) == 3000):\n",
        "                #     break\n",
        "                augmented = transform(image=image)['image']  # Apply augmentation\n",
        "                aug_img_name = f\"{os.path.splitext(img_name)[0]}_aug_{i}.jpg\"\n",
        "                aug_img_path = os.path.join(output_class_path, aug_img_name)\n",
        "                cv2.imwrite(aug_img_path, cv2.cvtColor(augmented, cv2.COLOR_RGB2BGR))"
      ]
    },
    {
      "cell_type": "code",
      "execution_count": 10,
      "metadata": {},
      "outputs": [
        {
          "name": "stderr",
          "output_type": "stream",
          "text": [
            "Processing angry: 100%|██████████| 3000/3000 [00:17<00:00, 172.19it/s]\n",
            "Processing fear: 100%|██████████| 3000/3000 [00:20<00:00, 144.54it/s]\n",
            "Processing happy: 100%|██████████| 3000/3000 [00:19<00:00, 154.52it/s]\n",
            "Processing neutral: 100%|██████████| 3000/3000 [00:20<00:00, 148.24it/s]\n",
            "Processing sad: 100%|██████████| 3000/3000 [00:20<00:00, 148.56it/s]\n",
            "Processing surprise: 100%|██████████| 3000/3000 [00:19<00:00, 150.35it/s]\n"
          ]
        }
      ],
      "source": [
        "input_dir = \"C:\\\\Users\\\\vinar\\\\Downloads\\\\FER2013-down-sampling\"\n",
        "output_dir = \"C:\\\\Users\\\\vinar\\\\Downloads\\\\FER2013-augmented\"\n",
        "augment_and_save(input_dir, output_dir, num_augments=3)"
      ]
    }
  ],
  "metadata": {
    "colab": {
      "authorship_tag": "ABX9TyPsysFYWZhSVISQMWkRBVI1",
      "include_colab_link": true,
      "provenance": []
    },
    "kernelspec": {
      "display_name": "Python (External Venv)",
      "language": "python",
      "name": "venv"
    },
    "language_info": {
      "codemirror_mode": {
        "name": "ipython",
        "version": 3
      },
      "file_extension": ".py",
      "mimetype": "text/x-python",
      "name": "python",
      "nbconvert_exporter": "python",
      "pygments_lexer": "ipython3",
      "version": "3.12.3"
    }
  },
  "nbformat": 4,
  "nbformat_minor": 0
}
