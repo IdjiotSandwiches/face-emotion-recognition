{
  "cells": [
    {
      "cell_type": "markdown",
      "metadata": {
        "colab_type": "text",
        "id": "view-in-github"
      },
      "source": [
        "<a href=\"https://colab.research.google.com/github/IdjiotSandwiches/face-emotion-recognition/blob/data-augmentation/data_augmentation.ipynb\" target=\"_parent\"><img src=\"https://colab.research.google.com/assets/colab-badge.svg\" alt=\"Open In Colab\"/></a>"
      ]
    },
    {
      "cell_type": "code",
      "execution_count": 1,
      "metadata": {
        "id": "-qnEnkZZokh9"
      },
      "outputs": [],
      "source": [
        "import cv2 as cv\n",
        "import os\n",
        "import pathlib\n",
        "import random\n",
        "import matplotlib.pyplot as plt\n",
        "import numpy as np"
      ]
    },
    {
      "cell_type": "code",
      "execution_count": 2,
      "metadata": {
        "id": "TW8vKjlABf0D"
      },
      "outputs": [
        {
          "ename": "ModuleNotFoundError",
          "evalue": "No module named 'google.colab'",
          "output_type": "error",
          "traceback": [
            "\u001b[1;31m---------------------------------------------------------------------------\u001b[0m",
            "\u001b[1;31mModuleNotFoundError\u001b[0m                       Traceback (most recent call last)",
            "Cell \u001b[1;32mIn[2], line 1\u001b[0m\n\u001b[1;32m----> 1\u001b[0m \u001b[38;5;28;01mfrom\u001b[39;00m \u001b[38;5;21;01mgoogle\u001b[39;00m\u001b[38;5;21;01m.\u001b[39;00m\u001b[38;5;21;01mcolab\u001b[39;00m \u001b[38;5;28;01mimport\u001b[39;00m drive\n\u001b[0;32m      2\u001b[0m drive\u001b[38;5;241m.\u001b[39mmount(\u001b[38;5;124m'\u001b[39m\u001b[38;5;124m/content/drive\u001b[39m\u001b[38;5;124m'\u001b[39m)\n\u001b[0;32m      4\u001b[0m get_ipython()\u001b[38;5;241m.\u001b[39mrun_line_magic(\u001b[38;5;124m'\u001b[39m\u001b[38;5;124mcd\u001b[39m\u001b[38;5;124m'\u001b[39m, \u001b[38;5;124m'\u001b[39m\u001b[38;5;124m\"\u001b[39m\u001b[38;5;124m/content/drive/MyDrive/\u001b[39m\u001b[38;5;124m\"\u001b[39m\u001b[38;5;124m'\u001b[39m)\n",
            "\u001b[1;31mModuleNotFoundError\u001b[0m: No module named 'google.colab'"
          ]
        }
      ],
      "source": [
        "from google.colab import drive\n",
        "drive.mount('/content/drive')\n",
        "\n",
        "%cd \"/content/drive/MyDrive/\""
      ]
    },
    {
      "cell_type": "code",
      "execution_count": 38,
      "metadata": {
        "id": "T9v4lL4HBhPz"
      },
      "outputs": [],
      "source": [
        "PATH = pathlib.Path('C:\\\\Users\\\\vinar\\\\Downloads\\\\FER2013-Combined')\n",
        "LABELS = os.listdir(PATH)"
      ]
    },
    {
      "cell_type": "code",
      "execution_count": 20,
      "metadata": {
        "colab": {
          "base_uri": "https://localhost:8080/"
        },
        "id": "09nWPzP_nB2k",
        "outputId": "b93f515c-2336-42dd-b6a0-f3ea56b5483f"
      },
      "outputs": [
        {
          "name": "stdout",
          "output_type": "stream",
          "text": [
            "angry: 3000\n",
            "disgust: 547\n",
            "fear: 3000\n",
            "happy: 3000\n",
            "neutral: 3000\n",
            "sad: 3000\n",
            "surprise: 3000\n",
            "Highest count: 547\n"
          ]
        }
      ],
      "source": [
        "count = []\n",
        "for label in LABELS:\n",
        "  dir = f'{PATH}/{label}'\n",
        "  folder_item_count = len(os.listdir(dir))\n",
        "  count.append(folder_item_count)\n",
        "  print(f'{label}: {folder_item_count}')\n",
        "\n",
        "HIGHEST_COUNT = min(count)\n",
        "print(f'Highest count: {HIGHEST_COUNT}')"
      ]
    },
    {
      "cell_type": "code",
      "execution_count": 39,
      "metadata": {},
      "outputs": [],
      "source": [
        "for i, label in enumerate(LABELS):\n",
        "  path = f'{PATH}/{label}'\n",
        "  folder_path = f'C:\\\\Users\\\\vinar\\\\Downloads\\\\FER2013-down-sampling\\\\{label}'\n",
        "  os.makedirs(folder_path, exist_ok=True)\n",
        "\n",
        "  for j, img_path in enumerate(os.listdir(path)):\n",
        "    if(j == 3000):\n",
        "      break\n",
        "    img = cv.imread(f'{path}/{img_path}')\n",
        "    new_path = f'{folder_path}\\\\{img_path}'\n",
        "    cv.imwrite(new_path, img)"
      ]
    },
    {
      "cell_type": "code",
      "execution_count": 4,
      "metadata": {
        "id": "DrnZP-IrxxTZ"
      },
      "outputs": [],
      "source": [
        "def rotate(img):\n",
        "  Cx, Cy = img.shape[:2]\n",
        "  rand_angle = random.randint(-180,180)\n",
        "  M = cv.getRotationMatrix2D((Cy//2, Cx//2),rand_angle ,1)\n",
        "  img = cv.warpAffine(img, M, (Cx, Cy))\n",
        "  return img\n",
        "\n",
        "def flip(img):\n",
        "  num = [0, 1, -1]\n",
        "  img = cv.flip(img, random.choice(num))\n",
        "  return img\n",
        "\n",
        "def noise(img):\n",
        "  row, col = img.shape[:2]\n",
        "  number_of_pixels = random.randint(300, 1000)\n",
        "  for i in range(number_of_pixels):\n",
        "    y_coord=random.randint(0, row - 1)\n",
        "    x_coord=random.randint(0, col - 1)\n",
        "    img[y_coord][x_coord] = 255\n",
        "\n",
        "  number_of_pixels = random.randint(300 , 1000)\n",
        "  for i in range(number_of_pixels):\n",
        "      y_coord=random.randint(0, row - 1)\n",
        "      x_coord=random.randint(0, col - 1)\n",
        "      img[y_coord][x_coord] = 0\n",
        "  return img"
      ]
    },
    {
      "cell_type": "code",
      "execution_count": 5,
      "metadata": {
        "id": "BkBMgrDHohXx"
      },
      "outputs": [],
      "source": [
        "data = {}\n",
        "\n",
        "for i, label in enumerate(LABELS):\n",
        "  path = f'{PATH}/{label}'\n",
        "  data[label] = []\n",
        "  for j, img_path in enumerate(os.listdir(path)):\n",
        "    img = cv.imread(f'{path}/{img_path}')\n",
        "    data[label].append(img)"
      ]
    },
    {
      "cell_type": "code",
      "execution_count": 9,
      "metadata": {
        "id": "KkD3gLF8qjrU"
      },
      "outputs": [],
      "source": [
        "for label in LABELS:\n",
        "  images = data[label]\n",
        "\n",
        "  path = f'C:\\\\Users\\\\vinar\\\\Downloads\\\\facial-emotion-recognition-augmented\\\\{label}'\n",
        "  os.makedirs(path, exist_ok=True)\n",
        "\n",
        "  for j, img in enumerate(images):\n",
        "    if(len(os.listdir(path)) >= HIGHEST_COUNT):\n",
        "      break\n",
        "\n",
        "    num = [1,2,3]\n",
        "    rand = random.choice(num)\n",
        "\n",
        "    for i in range(8):\n",
        "      if(len(os.listdir(path)) >= HIGHEST_COUNT):\n",
        "        break\n",
        "      if(rand == 1):\n",
        "        img = rotate(img)\n",
        "      elif(rand == 2):\n",
        "        img = flip(img)\n",
        "      elif(rand == 3):\n",
        "        img = noise(img)\n",
        "\n",
        "\n",
        "      img_name = f'{path}/{label}_{j}_{i}.png'\n",
        "      cv.imwrite(img_name, img)"
      ]
    },
    {
      "cell_type": "code",
      "execution_count": 3,
      "metadata": {},
      "outputs": [
        {
          "name": "stdout",
          "output_type": "stream",
          "text": [
            "angry: 890\n",
            "disgust: 439\n",
            "fear: 570\n",
            "happy: 1406\n",
            "neutral: 524\n",
            "sad: 746\n",
            "surprise: 775\n",
            "Highest count: 439\n"
          ]
        }
      ],
      "source": [
        "count = []\n",
        "for label in LABELS:\n",
        "  dir = f'{PATH}/{label}'\n",
        "  folder_item_count = len(os.listdir(dir))\n",
        "  count.append(folder_item_count)\n",
        "  print(f'{label}: {folder_item_count}')\n",
        "\n",
        "LOWEST_COUNT = min(count)\n",
        "print(f'Highest count: {LOWEST_COUNT}')"
      ]
    },
    {
      "cell_type": "code",
      "execution_count": 6,
      "metadata": {},
      "outputs": [],
      "source": [
        "for label in LABELS:\n",
        "  folder_dir = f'{PATH}/{label}'\n",
        "\n",
        "  path = f'C:\\\\Users\\\\vinar\\\\Downloads\\\\down-sampling\\\\{label}'\n",
        "  os.makedirs(path, exist_ok=True)\n",
        "\n",
        "  for i, image in enumerate(os.listdir(folder_dir)):\n",
        "    if(i == LOWEST_COUNT):\n",
        "      break\n",
        "\n",
        "    img = cv.imread(f'{folder_dir}/{image}')\n",
        "    cv.imwrite(f'{path}/{image}', img)"
      ]
    },
    {
      "cell_type": "code",
      "execution_count": 24,
      "metadata": {},
      "outputs": [],
      "source": [
        "import os\n",
        "import cv2\n",
        "import albumentations as A\n",
        "from albumentations.core.composition import OneOf\n",
        "from albumentations import HorizontalFlip, RandomBrightnessContrast, ShiftScaleRotate\n",
        "from albumentations import Normalize\n",
        "from tqdm import tqdm\n",
        "import numpy as np"
      ]
    },
    {
      "cell_type": "code",
      "execution_count": 45,
      "metadata": {},
      "outputs": [],
      "source": [
        "transform = A.Compose([\n",
        "    A.Resize(224, 224),\n",
        "    A.RandomBrightnessContrast(p=0.5),\n",
        "    A.HorizontalFlip(p=0.5),\n",
        "    A.ShiftScaleRotate(shift_limit=0.05, scale_limit=0.05, rotate_limit=15, p=0.5),\n",
        "    A.OneOf([\n",
        "        A.GaussianBlur(blur_limit=(3, 5), p=0.5),\n",
        "        A.GaussNoise(var_limit=(10, 30), p=0.5)\n",
        "    ])\n",
        "])"
      ]
    },
    {
      "cell_type": "code",
      "execution_count": 43,
      "metadata": {},
      "outputs": [],
      "source": [
        "def augment_and_save(input_dir, output_dir, num_augments=3):\n",
        "    \"\"\"\n",
        "    Creates augmented images from a dataset and saves them to disk.\n",
        "\n",
        "    Args:\n",
        "        input_dir (str): Path to the original dataset directory (with class subfolders).\n",
        "        output_dir (str): Path to save the augmented dataset.\n",
        "        num_augments (int): Number of augmented images to create per original image.\n",
        "    \"\"\"\n",
        "    if not os.path.exists(output_dir):\n",
        "        os.makedirs(output_dir)\n",
        "\n",
        "    # Loop through each class folder\n",
        "    for class_name in os.listdir(input_dir):\n",
        "        # if(class_name != 'disgust'):\n",
        "        #     continue\n",
        "        class_path = os.path.join(input_dir, class_name)\n",
        "        if not os.path.isdir(class_path):\n",
        "            continue  # Skip non-folder files\n",
        "\n",
        "        # Create a corresponding folder in the output directory\n",
        "        output_class_path = os.path.join(output_dir, class_name)\n",
        "        os.makedirs(output_class_path, exist_ok=True)\n",
        "\n",
        "        # Loop through each image in the class folder\n",
        "        for img_name in tqdm(os.listdir(class_path), desc=f\"Processing {class_name}\"):\n",
        "            # if(len(os.listdir(f'{output_dir}/{class_name}')) == 3000):\n",
        "            #     break\n",
        "            img_path = os.path.join(class_path, img_name)\n",
        "            image = cv2.imread(img_path)  # Load the image\n",
        "            if image is None:\n",
        "                continue  # Skip unreadable images\n",
        "            image = cv2.cvtColor(image, cv2.COLOR_BGR2RGB)\n",
        "\n",
        "            # Save original image\n",
        "            original_output_path = os.path.join(output_class_path, img_name)\n",
        "            cv2.imwrite(original_output_path, cv2.cvtColor(image, cv2.COLOR_RGB2BGR))\n",
        "\n",
        "            # Generate and save augmented images\n",
        "            for i in range(num_augments):\n",
        "                # if(len(os.listdir(f'{output_dir}/{class_name}')) == 3000):\n",
        "                #     break\n",
        "                augmented = transform(image=image)['image']  # Apply augmentation\n",
        "                aug_img_name = f\"{os.path.splitext(img_name)[0]}_aug_{i}.jpg\"\n",
        "                aug_img_path = os.path.join(output_class_path, aug_img_name)\n",
        "                cv2.imwrite(aug_img_path, cv2.cvtColor(augmented, cv2.COLOR_RGB2BGR))"
      ]
    },
    {
      "cell_type": "code",
      "execution_count": 44,
      "metadata": {},
      "outputs": [
        {
          "name": "stderr",
          "output_type": "stream",
          "text": [
            "Processing angry: 100%|██████████| 3000/3000 [00:44<00:00, 66.75it/s]\n",
            "Processing disgust: 100%|██████████| 2958/2958 [00:47<00:00, 62.68it/s]\n",
            "Processing fear: 100%|██████████| 3000/3000 [00:41<00:00, 72.54it/s]\n",
            "Processing happy: 100%|██████████| 3000/3000 [00:41<00:00, 71.46it/s]\n",
            "Processing neutral: 100%|██████████| 3000/3000 [00:41<00:00, 71.78it/s]\n",
            "Processing sad: 100%|██████████| 3000/3000 [00:45<00:00, 66.66it/s]\n",
            "Processing surprise: 100%|██████████| 3000/3000 [00:42<00:00, 69.94it/s]\n"
          ]
        }
      ],
      "source": [
        "input_dir = \"C:\\\\Users\\\\vinar\\\\Downloads\\\\FER2013-down-sampling\"\n",
        "output_dir = \"C:\\\\Users\\\\vinar\\\\Downloads\\\\FER2013-augmented\"\n",
        "augment_and_save(input_dir, output_dir, num_augments=3)"
      ]
    }
  ],
  "metadata": {
    "colab": {
      "authorship_tag": "ABX9TyPsysFYWZhSVISQMWkRBVI1",
      "include_colab_link": true,
      "provenance": []
    },
    "kernelspec": {
      "display_name": "Python (External Venv)",
      "language": "python",
      "name": "venv"
    },
    "language_info": {
      "codemirror_mode": {
        "name": "ipython",
        "version": 3
      },
      "file_extension": ".py",
      "mimetype": "text/x-python",
      "name": "python",
      "nbconvert_exporter": "python",
      "pygments_lexer": "ipython3",
      "version": "3.12.3"
    }
  },
  "nbformat": 4,
  "nbformat_minor": 0
}
