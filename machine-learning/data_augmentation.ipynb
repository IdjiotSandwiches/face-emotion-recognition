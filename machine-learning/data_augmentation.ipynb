{
  "cells": [
    {
      "cell_type": "markdown",
      "metadata": {
        "colab_type": "text",
        "id": "view-in-github"
      },
      "source": [
        "<a href=\"https://colab.research.google.com/github/IdjiotSandwiches/face-emotion-recognition/blob/data-augmentation/data_augmentation.ipynb\" target=\"_parent\"><img src=\"https://colab.research.google.com/assets/colab-badge.svg\" alt=\"Open In Colab\"/></a>"
      ]
    },
    {
      "cell_type": "code",
      "execution_count": 1,
      "metadata": {
        "id": "-qnEnkZZokh9"
      },
      "outputs": [],
      "source": [
        "import cv2 as cv\n",
        "import os\n",
        "import pathlib\n",
        "import random\n",
        "import matplotlib.pyplot as plt\n",
        "import numpy as np"
      ]
    },
    {
      "cell_type": "code",
      "execution_count": 2,
      "metadata": {
        "id": "TW8vKjlABf0D"
      },
      "outputs": [
        {
          "ename": "ModuleNotFoundError",
          "evalue": "No module named 'google.colab'",
          "output_type": "error",
          "traceback": [
            "\u001b[1;31m---------------------------------------------------------------------------\u001b[0m",
            "\u001b[1;31mModuleNotFoundError\u001b[0m                       Traceback (most recent call last)",
            "Cell \u001b[1;32mIn[2], line 1\u001b[0m\n\u001b[1;32m----> 1\u001b[0m \u001b[38;5;28;01mfrom\u001b[39;00m \u001b[38;5;21;01mgoogle\u001b[39;00m\u001b[38;5;21;01m.\u001b[39;00m\u001b[38;5;21;01mcolab\u001b[39;00m \u001b[38;5;28;01mimport\u001b[39;00m drive\n\u001b[0;32m      2\u001b[0m drive\u001b[38;5;241m.\u001b[39mmount(\u001b[38;5;124m'\u001b[39m\u001b[38;5;124m/content/drive\u001b[39m\u001b[38;5;124m'\u001b[39m)\n\u001b[0;32m      4\u001b[0m get_ipython()\u001b[38;5;241m.\u001b[39mrun_line_magic(\u001b[38;5;124m'\u001b[39m\u001b[38;5;124mcd\u001b[39m\u001b[38;5;124m'\u001b[39m, \u001b[38;5;124m'\u001b[39m\u001b[38;5;124m\"\u001b[39m\u001b[38;5;124m/content/drive/MyDrive/\u001b[39m\u001b[38;5;124m\"\u001b[39m\u001b[38;5;124m'\u001b[39m)\n",
            "\u001b[1;31mModuleNotFoundError\u001b[0m: No module named 'google.colab'"
          ]
        }
      ],
      "source": [
        "from google.colab import drive\n",
        "drive.mount('/content/drive')\n",
        "\n",
        "%cd \"/content/drive/MyDrive/\""
      ]
    },
    {
      "cell_type": "code",
      "execution_count": 2,
      "metadata": {
        "id": "T9v4lL4HBhPz"
      },
      "outputs": [],
      "source": [
        "PATH = pathlib.Path('C:\\\\Users\\\\vinar\\\\Downloads\\\\facial-emotion-recognition')\n",
        "LABELS = os.listdir(PATH)"
      ]
    },
    {
      "cell_type": "code",
      "execution_count": 3,
      "metadata": {
        "colab": {
          "base_uri": "https://localhost:8080/"
        },
        "id": "09nWPzP_nB2k",
        "outputId": "b93f515c-2336-42dd-b6a0-f3ea56b5483f"
      },
      "outputs": [
        {
          "name": "stdout",
          "output_type": "stream",
          "text": [
            "angry: 890\n",
            "disgust: 439\n",
            "fear: 570\n",
            "happy: 1406\n",
            "neutral: 524\n",
            "sad: 746\n",
            "surprise: 775\n",
            "Highest count: 2500\n"
          ]
        }
      ],
      "source": [
        "count = []\n",
        "for label in LABELS:\n",
        "  dir = f'{PATH}/{label}'\n",
        "  folder_item_count = len(os.listdir(dir))\n",
        "  count.append(folder_item_count)\n",
        "  print(f'{label}: {folder_item_count}')\n",
        "\n",
        "HIGHEST_COUNT = max(count) + 1094\n",
        "print(f'Highest count: {HIGHEST_COUNT}')"
      ]
    },
    {
      "cell_type": "code",
      "execution_count": 4,
      "metadata": {
        "id": "DrnZP-IrxxTZ"
      },
      "outputs": [],
      "source": [
        "def rotate(img):\n",
        "  Cx, Cy = img.shape[:2]\n",
        "  rand_angle = random.randint(-180,180)\n",
        "  M = cv.getRotationMatrix2D((Cy//2, Cx//2),rand_angle ,1)\n",
        "  img = cv.warpAffine(img, M, (Cx, Cy))\n",
        "  return img\n",
        "\n",
        "def flip(img):\n",
        "  num = [0, 1, -1]\n",
        "  img = cv.flip(img, random.choice(num))\n",
        "  return img\n",
        "\n",
        "def noise(img):\n",
        "  row, col = img.shape[:2]\n",
        "  number_of_pixels = random.randint(300, 1000)\n",
        "  for i in range(number_of_pixels):\n",
        "    y_coord=random.randint(0, row - 1)\n",
        "    x_coord=random.randint(0, col - 1)\n",
        "    img[y_coord][x_coord] = 255\n",
        "\n",
        "  number_of_pixels = random.randint(300 , 1000)\n",
        "  for i in range(number_of_pixels):\n",
        "      y_coord=random.randint(0, row - 1)\n",
        "      x_coord=random.randint(0, col - 1)\n",
        "      img[y_coord][x_coord] = 0\n",
        "  return img"
      ]
    },
    {
      "cell_type": "code",
      "execution_count": 5,
      "metadata": {
        "id": "BkBMgrDHohXx"
      },
      "outputs": [],
      "source": [
        "data = {}\n",
        "\n",
        "for i, label in enumerate(LABELS):\n",
        "  path = f'{PATH}/{label}'\n",
        "  data[label] = []\n",
        "  for j, img_path in enumerate(os.listdir(path)):\n",
        "    img = cv.imread(f'{path}/{img_path}')\n",
        "    data[label].append(img)"
      ]
    },
    {
      "cell_type": "code",
      "execution_count": 9,
      "metadata": {
        "id": "KkD3gLF8qjrU"
      },
      "outputs": [],
      "source": [
        "for label in LABELS:\n",
        "  images = data[label]\n",
        "\n",
        "  path = f'C:\\\\Users\\\\vinar\\\\Downloads\\\\facial-emotion-recognition-augmented\\\\{label}'\n",
        "  os.makedirs(path, exist_ok=True)\n",
        "\n",
        "  for j, img in enumerate(images):\n",
        "    if(len(os.listdir(path)) >= HIGHEST_COUNT):\n",
        "      break\n",
        "\n",
        "    num = [1,2,3]\n",
        "    rand = random.choice(num)\n",
        "\n",
        "    for i in range(8):\n",
        "      if(len(os.listdir(path)) >= HIGHEST_COUNT):\n",
        "        break\n",
        "      if(rand == 1):\n",
        "        img = rotate(img)\n",
        "      elif(rand == 2):\n",
        "        img = flip(img)\n",
        "      elif(rand == 3):\n",
        "        img = noise(img)\n",
        "\n",
        "\n",
        "      img_name = f'{path}/{label}_{j}_{i}.png'\n",
        "      cv.imwrite(img_name, img)"
      ]
    },
    {
      "cell_type": "code",
      "execution_count": 3,
      "metadata": {},
      "outputs": [
        {
          "name": "stdout",
          "output_type": "stream",
          "text": [
            "angry: 890\n",
            "disgust: 439\n",
            "fear: 570\n",
            "happy: 1406\n",
            "neutral: 524\n",
            "sad: 746\n",
            "surprise: 775\n",
            "Highest count: 439\n"
          ]
        }
      ],
      "source": [
        "count = []\n",
        "for label in LABELS:\n",
        "  dir = f'{PATH}/{label}'\n",
        "  folder_item_count = len(os.listdir(dir))\n",
        "  count.append(folder_item_count)\n",
        "  print(f'{label}: {folder_item_count}')\n",
        "\n",
        "LOWEST_COUNT = min(count)\n",
        "print(f'Highest count: {LOWEST_COUNT}')"
      ]
    },
    {
      "cell_type": "code",
      "execution_count": 6,
      "metadata": {},
      "outputs": [],
      "source": [
        "for label in LABELS:\n",
        "  folder_dir = f'{PATH}/{label}'\n",
        "\n",
        "  path = f'C:\\\\Users\\\\vinar\\\\Downloads\\\\down-sampling\\\\{label}'\n",
        "  os.makedirs(path, exist_ok=True)\n",
        "\n",
        "  for i, image in enumerate(os.listdir(folder_dir)):\n",
        "    if(i == LOWEST_COUNT):\n",
        "      break\n",
        "\n",
        "    img = cv.imread(f'{folder_dir}/{image}')\n",
        "    cv.imwrite(f'{path}/{image}', img)"
      ]
    }
  ],
  "metadata": {
    "colab": {
      "authorship_tag": "ABX9TyPsysFYWZhSVISQMWkRBVI1",
      "include_colab_link": true,
      "provenance": []
    },
    "kernelspec": {
      "display_name": "Python (External Venv)",
      "language": "python",
      "name": "venv"
    },
    "language_info": {
      "codemirror_mode": {
        "name": "ipython",
        "version": 3
      },
      "file_extension": ".py",
      "mimetype": "text/x-python",
      "name": "python",
      "nbconvert_exporter": "python",
      "pygments_lexer": "ipython3",
      "version": "3.12.3"
    }
  },
  "nbformat": 4,
  "nbformat_minor": 0
}
