{
 "cells": [
  {
   "cell_type": "code",
   "execution_count": 17,
   "metadata": {},
   "outputs": [],
   "source": [
    "import os\n",
    "import cv2\n",
    "import numpy as np\n",
    "from sklearn.model_selection import train_test_split\n",
    "import matplotlib.pyplot as plt\n",
    "from sklearn.metrics import confusion_matrix \n",
    "from tensorflow.keras.preprocessing.image import ImageDataGenerator, img_to_array\n",
    "import tensorflow as tf\n",
    "from tensorflow.keras import layers, models"
   ]
  },
  {
   "cell_type": "code",
   "execution_count": null,
   "metadata": {},
   "outputs": [],
   "source": [
    "# labels = []\n",
    "# for i in os.listdir('images/14'):\n",
    "#   labels.append(os.path.basename(i).split('.')[0])\n",
    "\n",
    "# BASE_PATH = 'images'\n",
    "# for c, i in enumerate(os.listdir(BASE_PATH)):\n",
    "#   for label, j in zip(labels, os.listdir(f'{BASE_PATH}/{i}')):\n",
    "#     img = tf.keras.utils.load_img(f'{BASE_PATH}/{i}/{j}')\n",
    "#     img_path = f'foto/{label}'\n",
    "#     os.makedirs(img_path, exist_ok=True)\n",
    "\n",
    "#     extension = os.path.basename(j).split('.')[1]\n",
    "\n",
    "#     img_name = f'{img_path}/{c}.{extension}'\n",
    "#     img.save(img_name)"
   ]
  },
  {
   "cell_type": "code",
   "execution_count": 23,
   "metadata": {},
   "outputs": [],
   "source": [
    "PATH = './newImage/'\n",
    "images = []\n",
    "class_list = []\n",
    "label_class = []"
   ]
  },
  {
   "cell_type": "code",
   "execution_count": 25,
   "metadata": {},
   "outputs": [],
   "source": [
    "for data in os.listdir(PATH):\n",
    "    DATA_PATH = os.path.join(PATH,data)\n",
    "    for filename in os.listdir(DATA_PATH):\n",
    "        img = cv2.imread(os.path.join(DATA_PATH, filename), cv2.IMREAD_GRAYSCALE)\n",
    "        img = img_to_array(img)\n",
    "        img = img/255.0\n",
    "        img = cv2.resize(img, (500, 500))\n",
    "        class_list.append(i)\n",
    "        images.append(img)"
   ]
  },
  {
   "cell_type": "code",
   "execution_count": 22,
   "metadata": {},
   "outputs": [],
   "source": []
  }
 ],
 "metadata": {
  "kernelspec": {
   "display_name": "Python 3",
   "language": "python",
   "name": "python3"
  },
  "language_info": {
   "codemirror_mode": {
    "name": "ipython",
    "version": 3
   },
   "file_extension": ".py",
   "mimetype": "text/x-python",
   "name": "python",
   "nbconvert_exporter": "python",
   "pygments_lexer": "ipython3",
   "version": "3.10.9"
  }
 },
 "nbformat": 4,
 "nbformat_minor": 2
}
